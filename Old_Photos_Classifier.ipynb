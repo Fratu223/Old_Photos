{
 "cells": [
  {
   "cell_type": "markdown",
   "metadata": {},
   "source": [
    "# OLD PHOTOS CLASSIFIER"
   ]
  },
  {
   "cell_type": "markdown",
   "metadata": {
    "vscode": {
     "languageId": "plaintext"
    }
   },
   "source": [
    "## Importing Libraries"
   ]
  },
  {
   "cell_type": "code",
   "execution_count": 11,
   "metadata": {},
   "outputs": [],
   "source": [
    "import pandas as pd\n",
    "import cv2\n",
    "import os\n",
    "import tensorflow as tf\n",
    "from keras.models import Sequential\n",
    "from keras.layers import Dense, Flatten\n",
    "import numpy as np\n",
    "import matplotlib.pyplot as plt\n",
    "from sklearn.model_selection import train_test_split\n",
    "from sklearn.metrics import confusion_matrix, ConfusionMatrixDisplay"
   ]
  },
  {
   "cell_type": "markdown",
   "metadata": {},
   "source": [
    "## Creating the train and test dataset"
   ]
  },
  {
   "cell_type": "markdown",
   "metadata": {},
   "source": [
    "### Function for image data preproccessing"
   ]
  },
  {
   "cell_type": "code",
   "execution_count": 12,
   "metadata": {},
   "outputs": [],
   "source": [
    "def importing_image_data(path, label):\n",
    "    x = []\n",
    "    y = []\n",
    "    for img_name in os.listdir(path):\n",
    "        if 'spate' in img_name:\n",
    "            continue\n",
    "        img = cv2.imread(path + '\\\\' + img_name)\n",
    "        img = cv2.cvtColor(img, cv2.COLOR_BGR2RGB)\n",
    "        img = cv2.resize(img, (224, 224))\n",
    "        img = img / 255\n",
    "        x.append(img)\n",
    "        y.append(label)\n",
    "    \n",
    "    return np.array(x), np.array(y)"
   ]
  },
  {
   "cell_type": "markdown",
   "metadata": {},
   "source": [
    "### Preproccessing the black and white and color images seperately"
   ]
  },
  {
   "cell_type": "code",
   "execution_count": 13,
   "metadata": {},
   "outputs": [
    {
     "data": {
      "text/plain": [
       "((261, 224, 224, 3), (261,), (38, 224, 224, 3), (38,))"
      ]
     },
     "execution_count": 13,
     "metadata": {},
     "output_type": "execute_result"
    }
   ],
   "source": [
    "x_black_and_white, y_black_and_white = importing_image_data(\"D:\\\\Imagini\\\\Alb_Negru\", 0)\n",
    "x_color, y_color = importing_image_data(\"D:\\\\Imagini\\\\Color\", 1)\n",
    "\n",
    "x_black_and_white.shape, y_black_and_white.shape, x_color.shape, y_color.shape"
   ]
  },
  {
   "cell_type": "markdown",
   "metadata": {},
   "source": [
    "### Equaling the number of black and white images to the number of color images"
   ]
  },
  {
   "cell_type": "code",
   "execution_count": 14,
   "metadata": {},
   "outputs": [
    {
     "data": {
      "text/plain": [
       "((38, 224, 224, 3), (38,), (38, 224, 224, 3), (38,))"
      ]
     },
     "execution_count": 14,
     "metadata": {},
     "output_type": "execute_result"
    }
   ],
   "source": [
    "x_black_and_white, y_black_and_white = x_black_and_white[:38], y_black_and_white[:38]\n",
    "\n",
    "x_black_and_white.shape, y_black_and_white.shape, x_color.shape, y_color.shape"
   ]
  },
  {
   "cell_type": "markdown",
   "metadata": {},
   "source": [
    "### Creating a test and train set for black and white and color images seperately"
   ]
  },
  {
   "cell_type": "code",
   "execution_count": 15,
   "metadata": {},
   "outputs": [
    {
     "name": "stdout",
     "output_type": "stream",
     "text": [
      "(34, 224, 224, 3) (4, 224, 224, 3) (34,) (4,)\n",
      "(34, 224, 224, 3) (4, 224, 224, 3) (34,) (4,)\n"
     ]
    }
   ],
   "source": [
    "x_black_and_white_train, x_black_and_white_test, y_black_and_white_train, y_black_and_white_test = train_test_split(x_black_and_white, y_black_and_white, test_size = 0.1, random_state = 42)\n",
    "x_color_train, x_color_test, y_color_train, y_color_test = train_test_split(x_color, y_color, test_size=0.1, random_state=42)\n",
    "\n",
    "print(x_black_and_white_train.shape, x_black_and_white_test.shape, y_black_and_white_train.shape, y_black_and_white_test.shape)\n",
    "print(x_color_train.shape, x_color_test.shape, y_color_train.shape, y_color_test.shape)"
   ]
  },
  {
   "cell_type": "markdown",
   "metadata": {},
   "source": [
    "### Combining the test and train sets"
   ]
  },
  {
   "cell_type": "code",
   "execution_count": 16,
   "metadata": {},
   "outputs": [
    {
     "data": {
      "text/plain": [
       "((68, 224, 224, 3), (8, 224, 224, 3), (68,), (8,))"
      ]
     },
     "execution_count": 16,
     "metadata": {},
     "output_type": "execute_result"
    }
   ],
   "source": [
    "x_train = np.vstack((x_black_and_white_train, x_color_train))\n",
    "x_test = np.vstack((x_black_and_white_test, x_color_test))\n",
    "y_train = np.hstack((y_black_and_white_train, y_color_train))\n",
    "y_test = np.hstack((y_black_and_white_test, y_color_test))\n",
    "\n",
    "x_train.shape, x_test.shape, y_train.shape, y_test.shape"
   ]
  },
  {
   "cell_type": "markdown",
   "metadata": {},
   "source": [
    "## Model Configuration"
   ]
  },
  {
   "cell_type": "markdown",
   "metadata": {},
   "source": [
    "### Building the model"
   ]
  },
  {
   "cell_type": "code",
   "execution_count": 7,
   "metadata": {},
   "outputs": [
    {
     "name": "stdout",
     "output_type": "stream",
     "text": [
      "WARNING:tensorflow:From c:\\Users\\Misu\\anaconda3\\envs\\block_c\\lib\\site-packages\\keras\\src\\backend.py:873: The name tf.get_default_graph is deprecated. Please use tf.compat.v1.get_default_graph instead.\n",
      "\n",
      "WARNING:tensorflow:From c:\\Users\\Misu\\anaconda3\\envs\\block_c\\lib\\site-packages\\keras\\src\\optimizers\\__init__.py:309: The name tf.train.Optimizer is deprecated. Please use tf.compat.v1.train.Optimizer instead.\n",
      "\n",
      "Model: \"sequential\"\n",
      "_________________________________________________________________\n",
      " Layer (type)                Output Shape              Param #   \n",
      "=================================================================\n",
      " flatten (Flatten)           (None, 150528)            0         \n",
      "                                                                 \n",
      " dense (Dense)               (None, 256)               38535424  \n",
      "                                                                 \n",
      " dense_1 (Dense)             (None, 128)               32896     \n",
      "                                                                 \n",
      " dense_2 (Dense)             (None, 64)                8256      \n",
      "                                                                 \n",
      " dense_3 (Dense)             (None, 32)                2080      \n",
      "                                                                 \n",
      " dense_4 (Dense)             (None, 1)                 33        \n",
      "                                                                 \n",
      "=================================================================\n",
      "Total params: 38578689 (147.17 MB)\n",
      "Trainable params: 38578689 (147.17 MB)\n",
      "Non-trainable params: 0 (0.00 Byte)\n",
      "_________________________________________________________________\n"
     ]
    }
   ],
   "source": [
    "model = Sequential()\n",
    "\n",
    "model.add(Flatten(input_shape = (224, 224, 3)))\n",
    "model.add(Dense(256, activation='relu'))\n",
    "model.add(Dense(128, activation='relu'))\n",
    "model.add(Dense(64, activation='relu'))\n",
    "model.add(Dense(32, activation='relu'))\n",
    "\n",
    "model.add(Dense(1, activation='softmax'))\n",
    "\n",
    "model.compile(optimizer='adam', loss = 'binary_crossentropy', metrics='accuracy')\n",
    "\n",
    "model.summary()"
   ]
  },
  {
   "cell_type": "markdown",
   "metadata": {},
   "source": [
    "### Training the model"
   ]
  },
  {
   "cell_type": "code",
   "execution_count": 8,
   "metadata": {},
   "outputs": [
    {
     "name": "stdout",
     "output_type": "stream",
     "text": [
      "Epoch 1/10\n",
      "WARNING:tensorflow:From c:\\Users\\Misu\\anaconda3\\envs\\block_c\\lib\\site-packages\\keras\\src\\utils\\tf_utils.py:492: The name tf.ragged.RaggedTensorValue is deprecated. Please use tf.compat.v1.ragged.RaggedTensorValue instead.\n",
      "\n",
      "WARNING:tensorflow:From c:\\Users\\Misu\\anaconda3\\envs\\block_c\\lib\\site-packages\\keras\\src\\engine\\base_layer_utils.py:384: The name tf.executing_eagerly_outside_functions is deprecated. Please use tf.compat.v1.executing_eagerly_outside_functions instead.\n",
      "\n",
      "7/7 [==============================] - 7s 892ms/step - loss: 15.4173 - accuracy: 0.5000 - val_loss: 26.5041 - val_accuracy: 0.5000\n",
      "Epoch 2/10\n",
      "7/7 [==============================] - 6s 830ms/step - loss: 17.7148 - accuracy: 0.5000 - val_loss: 19.8003 - val_accuracy: 0.5000\n",
      "Epoch 3/10\n",
      "7/7 [==============================] - 6s 805ms/step - loss: 12.1810 - accuracy: 0.5000 - val_loss: 6.5577 - val_accuracy: 0.5000\n",
      "Epoch 4/10\n",
      "7/7 [==============================] - 5s 771ms/step - loss: 5.1557 - accuracy: 0.5000 - val_loss: 1.9651 - val_accuracy: 0.5000\n",
      "Epoch 5/10\n",
      "7/7 [==============================] - 6s 807ms/step - loss: 2.4682 - accuracy: 0.5000 - val_loss: 4.4874 - val_accuracy: 0.5000\n",
      "Epoch 6/10\n",
      "7/7 [==============================] - 6s 916ms/step - loss: 1.7004 - accuracy: 0.5000 - val_loss: 1.7133 - val_accuracy: 0.5000\n",
      "Epoch 7/10\n",
      "7/7 [==============================] - 6s 884ms/step - loss: 2.3075 - accuracy: 0.5000 - val_loss: 6.4525 - val_accuracy: 0.5000\n",
      "Epoch 8/10\n",
      "7/7 [==============================] - 6s 882ms/step - loss: 8.0403 - accuracy: 0.5000 - val_loss: 5.7292 - val_accuracy: 0.5000\n",
      "Epoch 9/10\n",
      "7/7 [==============================] - 6s 898ms/step - loss: 8.7240 - accuracy: 0.5000 - val_loss: 7.4131 - val_accuracy: 0.5000\n",
      "Epoch 10/10\n",
      "7/7 [==============================] - 6s 850ms/step - loss: 7.4668 - accuracy: 0.5000 - val_loss: 5.9604 - val_accuracy: 0.5000\n"
     ]
    },
    {
     "data": {
      "text/plain": [
       "<keras.src.callbacks.History at 0x1eb93ae0160>"
      ]
     },
     "execution_count": 8,
     "metadata": {},
     "output_type": "execute_result"
    }
   ],
   "source": [
    "model.fit(x_train, y_train, epochs = 10, validation_data=(x_test, y_test), batch_size=10)"
   ]
  },
  {
   "cell_type": "markdown",
   "metadata": {},
   "source": [
    "### Evaluating the model"
   ]
  },
  {
   "cell_type": "code",
   "execution_count": 10,
   "metadata": {},
   "outputs": [
    {
     "name": "stdout",
     "output_type": "stream",
     "text": [
      "1/1 [==============================] - 0s 154ms/step\n"
     ]
    },
    {
     "data": {
      "text/plain": [
       "<sklearn.metrics._plot.confusion_matrix.ConfusionMatrixDisplay at 0x1eb937db760>"
      ]
     },
     "execution_count": 10,
     "metadata": {},
     "output_type": "execute_result"
    },
    {
     "data": {
      "image/png": "[encoded data removed]",
      "text/plain": [
       "<Figure size 640x480 with 2 Axes>"
      ]
     },
     "metadata": {},
     "output_type": "display_data"
    }
   ],
   "source": [
    "predicted = model.predict(x_test)\n",
    "predicted = tf.squeeze(predicted)\n",
    "predicted = np.array([1 if x >= 0.5 else 0 for x in predicted])\n",
    "actual = np.array(y_test)\n",
    "conf_mat = confusion_matrix(actual, predicted)\n",
    "displ = ConfusionMatrixDisplay(confusion_matrix=conf_mat)\n",
    "displ.plot()"
   ]
  },
  {
   "cell_type": "markdown",
   "metadata": {},
   "source": [
    "#### ! NOT FINAL MODEL !"
   ]
  }
 ],
 "metadata": {
  "kernelspec": {
   "display_name": "block_c",
   "language": "python",
   "name": "python3"
  },
  "language_info": {
   "codemirror_mode": {
    "name": "ipython",
    "version": 3
   },
   "file_extension": ".py",
   "mimetype": "text/x-python",
   "name": "python",
   "nbconvert_exporter": "python",
   "pygments_lexer": "ipython3",
   "version": "3.10.13"
  }
 },
 "nbformat": 4,
 "nbformat_minor": 2
}
