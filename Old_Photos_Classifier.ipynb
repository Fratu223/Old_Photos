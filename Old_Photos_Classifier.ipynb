{
 "cells": [
  {
   "cell_type": "markdown",
   "metadata": {},
   "source": [
    "# OLD PHOTOS CLASSIFIER"
   ]
  },
  {
   "cell_type": "markdown",
   "metadata": {
    "vscode": {
     "languageId": "plaintext"
    }
   },
   "source": [
    "## Importing Libraries"
   ]
  },
  {
   "cell_type": "code",
   "execution_count": 1,
   "metadata": {},
   "outputs": [
    {
     "name": "stdout",
     "output_type": "stream",
     "text": [
      "WARNING:tensorflow:From c:\\Users\\Misu\\anaconda3\\envs\\block_c\\lib\\site-packages\\keras\\src\\losses.py:2976: The name tf.losses.sparse_softmax_cross_entropy is deprecated. Please use tf.compat.v1.losses.sparse_softmax_cross_entropy instead.\n",
      "\n"
     ]
    }
   ],
   "source": [
    "import pandas as pd\n",
    "import cv2\n",
    "import os\n",
    "import tensorflow as tf\n",
    "from keras.models import Sequential\n",
    "from keras.layers import Dense, Flatten, Conv2D, MaxPooling2D\n",
    "import numpy as np\n",
    "import matplotlib.pyplot as plt\n",
    "from sklearn.model_selection import train_test_split\n",
    "from sklearn.metrics import confusion_matrix, ConfusionMatrixDisplay"
   ]
  },
  {
   "cell_type": "markdown",
   "metadata": {},
   "source": [
    "## Creating the train and test dataset"
   ]
  },
  {
   "cell_type": "markdown",
   "metadata": {},
   "source": [
    "### Function for image data preproccessing"
   ]
  },
  {
   "cell_type": "code",
   "execution_count": 2,
   "metadata": {},
   "outputs": [],
   "source": [
    "def importing_image_data(path, label):\n",
    "    x = []\n",
    "    y = []\n",
    "    for img_name in os.listdir(path):\n",
    "        if 'spate' in img_name:\n",
    "            continue\n",
    "        img = cv2.imread(path + '\\\\' + img_name)\n",
    "        img = cv2.cvtColor(img, cv2.COLOR_BGR2RGB)\n",
    "        img = cv2.resize(img, (224, 224))\n",
    "        img = img / 255\n",
    "        x.append(img)\n",
    "        y.append(label)\n",
    "    \n",
    "    return np.array(x), np.array(y)"
   ]
  },
  {
   "cell_type": "markdown",
   "metadata": {},
   "source": [
    "### Preproccessing the black and white and color images seperately"
   ]
  },
  {
   "cell_type": "code",
   "execution_count": 3,
   "metadata": {},
   "outputs": [
    {
     "data": {
      "text/plain": [
       "((261, 224, 224, 3), (261,), (70, 224, 224, 3), (70,))"
      ]
     },
     "execution_count": 3,
     "metadata": {},
     "output_type": "execute_result"
    }
   ],
   "source": [
    "x_black_and_white, y_black_and_white = importing_image_data(\"D:\\\\Imagini\\\\Alb_Negru\", 0)\n",
    "x_color, y_color = importing_image_data(\"D:\\\\Imagini\\\\Color\", 1)\n",
    "\n",
    "x_black_and_white.shape, y_black_and_white.shape, x_color.shape, y_color.shape"
   ]
  },
  {
   "cell_type": "markdown",
   "metadata": {},
   "source": [
    "### Equaling the number of black and white images to the number of color images"
   ]
  },
  {
   "cell_type": "code",
   "execution_count": 5,
   "metadata": {},
   "outputs": [
    {
     "data": {
      "text/plain": [
       "((70, 224, 224, 3), (70,), (70, 224, 224, 3), (70,))"
      ]
     },
     "execution_count": 5,
     "metadata": {},
     "output_type": "execute_result"
    }
   ],
   "source": [
    "x_black_and_white, y_black_and_white = x_black_and_white[:70], y_black_and_white[:70]\n",
    "\n",
    "x_black_and_white.shape, y_black_and_white.shape, x_color.shape, y_color.shape"
   ]
  },
  {
   "cell_type": "markdown",
   "metadata": {},
   "source": [
    "### Creating a test and train set for black and white and color images seperately"
   ]
  },
  {
   "cell_type": "code",
   "execution_count": 6,
   "metadata": {},
   "outputs": [
    {
     "name": "stdout",
     "output_type": "stream",
     "text": [
      "(63, 224, 224, 3) (7, 224, 224, 3) (63,) (7,)\n",
      "(63, 224, 224, 3) (7, 224, 224, 3) (63,) (7,)\n"
     ]
    }
   ],
   "source": [
    "x_black_and_white_train, x_black_and_white_test, y_black_and_white_train, y_black_and_white_test = train_test_split(x_black_and_white, y_black_and_white, test_size = 0.1, random_state = 42)\n",
    "x_color_train, x_color_test, y_color_train, y_color_test = train_test_split(x_color, y_color, test_size=0.1, random_state=42)\n",
    "\n",
    "print(x_black_and_white_train.shape, x_black_and_white_test.shape, y_black_and_white_train.shape, y_black_and_white_test.shape)\n",
    "print(x_color_train.shape, x_color_test.shape, y_color_train.shape, y_color_test.shape)"
   ]
  },
  {
   "cell_type": "markdown",
   "metadata": {},
   "source": [
    "### Combining the test and train sets"
   ]
  },
  {
   "cell_type": "code",
   "execution_count": 7,
   "metadata": {},
   "outputs": [
    {
     "data": {
      "text/plain": [
       "((126, 224, 224, 3), (14, 224, 224, 3), (126,), (14,))"
      ]
     },
     "execution_count": 7,
     "metadata": {},
     "output_type": "execute_result"
    }
   ],
   "source": [
    "x_train = np.vstack((x_black_and_white_train, x_color_train))\n",
    "x_test = np.vstack((x_black_and_white_test, x_color_test))\n",
    "y_train = np.hstack((y_black_and_white_train, y_color_train))\n",
    "y_test = np.hstack((y_black_and_white_test, y_color_test))\n",
    "\n",
    "x_train.shape, x_test.shape, y_train.shape, y_test.shape"
   ]
  },
  {
   "cell_type": "markdown",
   "metadata": {},
   "source": [
    "## Model Configuration"
   ]
  },
  {
   "cell_type": "markdown",
   "metadata": {},
   "source": [
    "### Building the model"
   ]
  },
  {
   "cell_type": "code",
   "execution_count": 10,
   "metadata": {},
   "outputs": [
    {
     "name": "stdout",
     "output_type": "stream",
     "text": [
      "Model: \"sequential_2\"\n",
      "_________________________________________________________________\n",
      " Layer (type)                Output Shape              Param #   \n",
      "=================================================================\n",
      " conv2d_4 (Conv2D)           (None, 222, 222, 64)      1792      \n",
      "                                                                 \n",
      " max_pooling2d_2 (MaxPoolin  (None, 111, 111, 64)      0         \n",
      " g2D)                                                            \n",
      "                                                                 \n",
      " conv2d_5 (Conv2D)           (None, 109, 109, 64)      36928     \n",
      "                                                                 \n",
      " flatten_2 (Flatten)         (None, 760384)            0         \n",
      "                                                                 \n",
      " dense_10 (Dense)            (None, 256)               194658560 \n",
      "                                                                 \n",
      " dense_11 (Dense)            (None, 128)               32896     \n",
      "                                                                 \n",
      " dense_12 (Dense)            (None, 64)                8256      \n",
      "                                                                 \n",
      " dense_13 (Dense)            (None, 32)                2080      \n",
      "                                                                 \n",
      " dense_14 (Dense)            (None, 1)                 33        \n",
      "                                                                 \n",
      "=================================================================\n",
      "Total params: 194740545 (742.88 MB)\n",
      "Trainable params: 194740545 (742.88 MB)\n",
      "Non-trainable params: 0 (0.00 Byte)\n",
      "_________________________________________________________________\n"
     ]
    }
   ],
   "source": [
    "model = Sequential()\n",
    "\n",
    "\n",
    "model.add(Conv2D(64, (3, 3), activation='relu', input_shape = (224, 224, 3)))\n",
    "model.add(MaxPooling2D((2, 2)))\n",
    "model.add(Conv2D(64, (3, 3), activation='relu'))\n",
    "\n",
    "model.add(Flatten())\n",
    "model.add(Dense(256, activation='relu'))\n",
    "model.add(Dense(128, activation='relu'))\n",
    "model.add(Dense(64, activation='relu'))\n",
    "model.add(Dense(32, activation='relu'))\n",
    "\n",
    "model.add(Dense(1, activation='sigmoid'))\n",
    "\n",
    "model.compile(optimizer='adam', loss = 'binary_crossentropy', metrics='accuracy')\n",
    "\n",
    "model.summary()"
   ]
  },
  {
   "cell_type": "markdown",
   "metadata": {},
   "source": [
    "### Training the model"
   ]
  },
  {
   "cell_type": "code",
   "execution_count": 11,
   "metadata": {},
   "outputs": [
    {
     "name": "stdout",
     "output_type": "stream",
     "text": [
      "Epoch 1/10\n",
      "WARNING:tensorflow:From c:\\Users\\Misu\\anaconda3\\envs\\block_c\\lib\\site-packages\\keras\\src\\utils\\tf_utils.py:492: The name tf.ragged.RaggedTensorValue is deprecated. Please use tf.compat.v1.ragged.RaggedTensorValue instead.\n",
      "\n",
      "WARNING:tensorflow:From c:\\Users\\Misu\\anaconda3\\envs\\block_c\\lib\\site-packages\\keras\\src\\engine\\base_layer_utils.py:384: The name tf.executing_eagerly_outside_functions is deprecated. Please use tf.compat.v1.executing_eagerly_outside_functions instead.\n",
      "\n",
      "13/13 [==============================] - 207s 14s/step - loss: 2.3025 - accuracy: 0.4683 - val_loss: 0.6480 - val_accuracy: 0.7143\n",
      "Epoch 2/10\n",
      "13/13 [==============================] - 147s 11s/step - loss: 0.5971 - accuracy: 0.7302 - val_loss: 0.8222 - val_accuracy: 0.5000\n",
      "Epoch 3/10\n",
      "13/13 [==============================] - 118s 8s/step - loss: 0.3788 - accuracy: 0.8730 - val_loss: 0.3672 - val_accuracy: 0.7857\n",
      "Epoch 4/10\n",
      "13/13 [==============================] - 79s 6s/step - loss: 0.1144 - accuracy: 0.9683 - val_loss: 0.4044 - val_accuracy: 0.7857\n",
      "Epoch 5/10\n",
      "13/13 [==============================] - 87s 7s/step - loss: 0.5971 - accuracy: 0.8889 - val_loss: 0.4905 - val_accuracy: 0.6429\n",
      "Epoch 6/10\n",
      "13/13 [==============================] - 89s 7s/step - loss: 0.3180 - accuracy: 0.8651 - val_loss: 0.5400 - val_accuracy: 0.7857\n",
      "Epoch 7/10\n",
      "13/13 [==============================] - 101s 8s/step - loss: 0.3690 - accuracy: 0.8730 - val_loss: 0.4815 - val_accuracy: 0.7143\n",
      "Epoch 8/10\n",
      "13/13 [==============================] - 126s 10s/step - loss: 0.1191 - accuracy: 0.9524 - val_loss: 0.4548 - val_accuracy: 0.7143\n",
      "Epoch 9/10\n",
      "13/13 [==============================] - 134s 11s/step - loss: 0.0990 - accuracy: 0.9762 - val_loss: 0.4599 - val_accuracy: 0.7143\n",
      "Epoch 10/10\n",
      "13/13 [==============================] - 106s 8s/step - loss: 0.0512 - accuracy: 0.9921 - val_loss: 0.4232 - val_accuracy: 0.7857\n"
     ]
    },
    {
     "data": {
      "text/plain": [
       "<keras.src.callbacks.History at 0x1193d9f1b70>"
      ]
     },
     "execution_count": 11,
     "metadata": {},
     "output_type": "execute_result"
    }
   ],
   "source": [
    "model.fit(x_train, y_train, epochs = 10, validation_data=(x_test, y_test), batch_size=10)"
   ]
  },
  {
   "cell_type": "markdown",
   "metadata": {},
   "source": [
    "### Evaluating the model"
   ]
  },
  {
   "cell_type": "code",
   "execution_count": 12,
   "metadata": {},
   "outputs": [
    {
     "name": "stdout",
     "output_type": "stream",
     "text": [
      "1/1 [==============================] - 18s 18s/step\n"
     ]
    },
    {
     "data": {
      "text/plain": [
       "<sklearn.metrics._plot.confusion_matrix.ConfusionMatrixDisplay at 0x1190fc8f7f0>"
      ]
     },
     "execution_count": 12,
     "metadata": {},
     "output_type": "execute_result"
    },
    {
     "data": {
      "image/png": "[encoded data removed]",
      "text/plain": [
       "<Figure size 640x480 with 2 Axes>"
      ]
     },
     "metadata": {},
     "output_type": "display_data"
    }
   ],
   "source": [
    "predicted = model.predict(x_test)\n",
    "predicted = tf.squeeze(predicted)\n",
    "predicted = np.array([1 if x >= 0.5 else 0 for x in predicted])\n",
    "actual = np.array(y_test)\n",
    "conf_mat = confusion_matrix(actual, predicted)\n",
    "displ = ConfusionMatrixDisplay(confusion_matrix=conf_mat)\n",
    "displ.plot()"
   ]
  },
  {
   "cell_type": "markdown",
   "metadata": {},
   "source": [
    "#### ! NOT FINAL MODEL !"
   ]
  }
 ],
 "metadata": {
  "kernelspec": {
   "display_name": "block_c",
   "language": "python",
   "name": "python3"
  },
  "language_info": {
   "codemirror_mode": {
    "name": "ipython",
    "version": 3
   },
   "file_extension": ".py",
   "mimetype": "text/x-python",
   "name": "python",
   "nbconvert_exporter": "python",
   "pygments_lexer": "ipython3",
   "version": "3.10.13"
  }
 },
 "nbformat": 4,
 "nbformat_minor": 2
}
