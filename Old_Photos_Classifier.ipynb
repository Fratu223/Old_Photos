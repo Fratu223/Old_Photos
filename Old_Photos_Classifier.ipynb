{
 "cells": [
  {
   "cell_type": "markdown",
   "metadata": {},
   "source": [
    "# OLD PHOTOS CLASSIFIER"
   ]
  },
  {
   "cell_type": "markdown",
   "metadata": {
    "vscode": {
     "languageId": "plaintext"
    }
   },
   "source": [
    "## Importing Libraries"
   ]
  },
  {
   "cell_type": "code",
   "execution_count": 7,
   "metadata": {},
   "outputs": [],
   "source": [
    "import pandas as pd\n",
    "import cv2\n",
    "import os\n",
    "import tensorflow as tf\n",
    "from keras.models import Sequential\n",
    "from keras.layers import Dense, Flatten, Conv2D, MaxPooling2D\n",
    "from keras.callbacks import EarlyStopping\n",
    "from keras.applications.vgg16 import VGG16\n",
    "import numpy as np\n",
    "import matplotlib.pyplot as plt\n",
    "from sklearn.model_selection import train_test_split\n",
    "from sklearn.metrics import confusion_matrix, ConfusionMatrixDisplay"
   ]
  },
  {
   "cell_type": "markdown",
   "metadata": {},
   "source": [
    "## Creating the train and test dataset"
   ]
  },
  {
   "cell_type": "markdown",
   "metadata": {},
   "source": [
    "### Function for image data preproccessing"
   ]
  },
  {
   "cell_type": "code",
   "execution_count": 8,
   "metadata": {},
   "outputs": [],
   "source": [
    "def importing_image_data(path, label):\n",
    "    x = []\n",
    "    y = []\n",
    "    for img_name in os.listdir(path):\n",
    "        if 'spate' in img_name:\n",
    "            continue\n",
    "        img = cv2.imread(path + '\\\\' + img_name)\n",
    "        img = cv2.cvtColor(img, cv2.COLOR_BGR2RGB)\n",
    "        img = cv2.resize(img, (224, 224))\n",
    "        img = img / 255\n",
    "        x.append(img)\n",
    "        y.append(label)\n",
    "    \n",
    "    return np.array(x), np.array(y)"
   ]
  },
  {
   "cell_type": "markdown",
   "metadata": {},
   "source": [
    "### Preproccessing the black and white and color images seperately"
   ]
  },
  {
   "cell_type": "code",
   "execution_count": 9,
   "metadata": {},
   "outputs": [
    {
     "data": {
      "text/plain": [
       "((261, 224, 224, 3), (261,), (121, 224, 224, 3), (121,))"
      ]
     },
     "execution_count": 9,
     "metadata": {},
     "output_type": "execute_result"
    }
   ],
   "source": [
    "x_black_and_white, y_black_and_white = importing_image_data(\"D:\\\\Imagini\\\\Alb_Negru\", 0)\n",
    "x_color, y_color = importing_image_data(\"D:\\\\Imagini\\\\Color\", 1)\n",
    "\n",
    "x_black_and_white.shape, y_black_and_white.shape, x_color.shape, y_color.shape"
   ]
  },
  {
   "cell_type": "markdown",
   "metadata": {},
   "source": [
    "### Equaling the number of black and white images to the number of color images"
   ]
  },
  {
   "cell_type": "code",
   "execution_count": 10,
   "metadata": {},
   "outputs": [
    {
     "data": {
      "text/plain": [
       "((121, 224, 224, 3), (121,), (121, 224, 224, 3), (121,))"
      ]
     },
     "execution_count": 10,
     "metadata": {},
     "output_type": "execute_result"
    }
   ],
   "source": [
    "x_black_and_white, y_black_and_white = x_black_and_white[:121], y_black_and_white[:121]\n",
    "\n",
    "x_black_and_white.shape, y_black_and_white.shape, x_color.shape, y_color.shape"
   ]
  },
  {
   "cell_type": "markdown",
   "metadata": {},
   "source": [
    "### Creating a test and train set for black and white and color images seperately"
   ]
  },
  {
   "cell_type": "code",
   "execution_count": 11,
   "metadata": {},
   "outputs": [
    {
     "name": "stdout",
     "output_type": "stream",
     "text": [
      "(96, 224, 224, 3) (25, 224, 224, 3) (96,) (25,)\n",
      "(96, 224, 224, 3) (25, 224, 224, 3) (96,) (25,)\n"
     ]
    }
   ],
   "source": [
    "x_black_and_white_train, x_black_and_white_test, y_black_and_white_train, y_black_and_white_test = train_test_split(x_black_and_white, y_black_and_white, test_size = 0.2, random_state = 42)\n",
    "x_color_train, x_color_test, y_color_train, y_color_test = train_test_split(x_color, y_color, test_size=0.2, random_state=42)\n",
    "\n",
    "print(x_black_and_white_train.shape, x_black_and_white_test.shape, y_black_and_white_train.shape, y_black_and_white_test.shape)\n",
    "print(x_color_train.shape, x_color_test.shape, y_color_train.shape, y_color_test.shape)"
   ]
  },
  {
   "cell_type": "markdown",
   "metadata": {},
   "source": [
    "### Combining the test and train sets"
   ]
  },
  {
   "cell_type": "code",
   "execution_count": 12,
   "metadata": {},
   "outputs": [
    {
     "data": {
      "text/plain": [
       "((192, 224, 224, 3), (50, 224, 224, 3), (192,), (50,))"
      ]
     },
     "execution_count": 12,
     "metadata": {},
     "output_type": "execute_result"
    }
   ],
   "source": [
    "x_train = np.vstack((x_black_and_white_train, x_color_train))\n",
    "x_test = np.vstack((x_black_and_white_test, x_color_test))\n",
    "y_train = np.hstack((y_black_and_white_train, y_color_train))\n",
    "y_test = np.hstack((y_black_and_white_test, y_color_test))\n",
    "\n",
    "x_train.shape, x_test.shape, y_train.shape, y_test.shape"
   ]
  },
  {
   "cell_type": "markdown",
   "metadata": {},
   "source": [
    "## Model Configuration"
   ]
  },
  {
   "cell_type": "markdown",
   "metadata": {},
   "source": [
    "### Building the model"
   ]
  },
  {
   "cell_type": "code",
   "execution_count": 17,
   "metadata": {},
   "outputs": [
    {
     "name": "stdout",
     "output_type": "stream",
     "text": [
      "Model: \"sequential_1\"\n",
      "_________________________________________________________________\n",
      " Layer (type)                Output Shape              Param #   \n",
      "=================================================================\n",
      " conv2d (Conv2D)             (None, 222, 222, 64)      1792      \n",
      "                                                                 \n",
      " max_pooling2d (MaxPooling2  (None, 111, 111, 64)      0         \n",
      " D)                                                              \n",
      "                                                                 \n",
      " conv2d_1 (Conv2D)           (None, 109, 109, 64)      36928     \n",
      "                                                                 \n",
      " flatten_1 (Flatten)         (None, 760384)            0         \n",
      "                                                                 \n",
      " dense_5 (Dense)             (None, 256)               194658560 \n",
      "                                                                 \n",
      " dense_6 (Dense)             (None, 128)               32896     \n",
      "                                                                 \n",
      " dense_7 (Dense)             (None, 64)                8256      \n",
      "                                                                 \n",
      " dense_8 (Dense)             (None, 32)                2080      \n",
      "                                                                 \n",
      " dense_9 (Dense)             (None, 1)                 33        \n",
      "                                                                 \n",
      "=================================================================\n",
      "Total params: 194740545 (742.88 MB)\n",
      "Trainable params: 194740545 (742.88 MB)\n",
      "Non-trainable params: 0 (0.00 Byte)\n",
      "_________________________________________________________________\n"
     ]
    }
   ],
   "source": [
    "model = Sequential()\n",
    "\n",
    "model.add(Conv2D(64, (3, 3), activation='relu', input_shape = (224, 224, 3)))\n",
    "model.add(MaxPooling2D((2, 2)))\n",
    "model.add(Conv2D(64, (3, 3), activation='relu'))\n",
    "\n",
    "model.add(Flatten())\n",
    "model.add(Dense(256, activation='relu'))\n",
    "model.add(Dense(128, activation='relu'))\n",
    "model.add(Dense(64, activation='relu'))\n",
    "model.add(Dense(32, activation='relu'))\n",
    "\n",
    "model.add(Dense(1, activation='sigmoid'))\n",
    "\n",
    "model.compile(optimizer='adam', loss = 'binary_crossentropy', metrics='accuracy')\n",
    "\n",
    "model.summary()"
   ]
  },
  {
   "cell_type": "markdown",
   "metadata": {},
   "source": [
    "### Initializing earlystopping callback"
   ]
  },
  {
   "cell_type": "code",
   "execution_count": 18,
   "metadata": {},
   "outputs": [],
   "source": [
    "earlystopping = EarlyStopping(monitor = 'val_loss', patience = 3, restore_best_weights = True)"
   ]
  },
  {
   "cell_type": "markdown",
   "metadata": {},
   "source": [
    "### Training the model"
   ]
  },
  {
   "cell_type": "code",
   "execution_count": 19,
   "metadata": {},
   "outputs": [
    {
     "name": "stdout",
     "output_type": "stream",
     "text": [
      "Epoch 1/10\n",
      "20/20 [==============================] - 377s 17s/step - loss: 1.5527 - accuracy: 0.6250 - val_loss: 0.4043 - val_accuracy: 0.8200\n",
      "Epoch 2/10\n",
      "20/20 [==============================] - 525s 25s/step - loss: 0.4181 - accuracy: 0.8177 - val_loss: 0.3571 - val_accuracy: 0.8000\n",
      "Epoch 3/10\n",
      "20/20 [==============================] - 343s 15s/step - loss: 0.3336 - accuracy: 0.8854 - val_loss: 0.6064 - val_accuracy: 0.7800\n",
      "Epoch 4/10\n",
      "20/20 [==============================] - 241s 12s/step - loss: 0.3961 - accuracy: 0.8698 - val_loss: 0.2713 - val_accuracy: 0.9000\n",
      "Epoch 5/10\n",
      "20/20 [==============================] - 274s 12s/step - loss: 0.1857 - accuracy: 0.9271 - val_loss: 0.4123 - val_accuracy: 0.8200\n",
      "Epoch 6/10\n",
      "20/20 [==============================] - 191s 10s/step - loss: 0.1224 - accuracy: 0.9531 - val_loss: 0.2696 - val_accuracy: 0.8600\n",
      "Epoch 7/10\n",
      "20/20 [==============================] - 243s 11s/step - loss: 0.0479 - accuracy: 0.9896 - val_loss: 0.3903 - val_accuracy: 0.8800\n",
      "Epoch 8/10\n",
      "20/20 [==============================] - 174s 9s/step - loss: 0.0442 - accuracy: 0.9844 - val_loss: 0.3570 - val_accuracy: 0.8600\n",
      "Epoch 9/10\n",
      "20/20 [==============================] - 214s 11s/step - loss: 0.0401 - accuracy: 0.9948 - val_loss: 0.6838 - val_accuracy: 0.8400\n"
     ]
    },
    {
     "data": {
      "text/plain": [
       "<keras.src.callbacks.History at 0x23801369c60>"
      ]
     },
     "execution_count": 19,
     "metadata": {},
     "output_type": "execute_result"
    }
   ],
   "source": [
    "model.fit(x_train, y_train, epochs = 10, batch_size=10, validation_data=(x_test, y_test), callbacks=earlystopping)"
   ]
  },
  {
   "cell_type": "markdown",
   "metadata": {},
   "source": [
    "### Evaluating the model"
   ]
  },
  {
   "cell_type": "code",
   "execution_count": 20,
   "metadata": {},
   "outputs": [
    {
     "name": "stdout",
     "output_type": "stream",
     "text": [
      "2/2 [==============================] - 6s 821ms/step\n"
     ]
    },
    {
     "data": {
      "text/plain": [
       "<sklearn.metrics._plot.confusion_matrix.ConfusionMatrixDisplay at 0x237f844b160>"
      ]
     },
     "execution_count": 20,
     "metadata": {},
     "output_type": "execute_result"
    },
    {
     "data": {
      "image/png": "[encoded data removed]",
      "text/plain": [
       "<Figure size 640x480 with 2 Axes>"
      ]
     },
     "metadata": {},
     "output_type": "display_data"
    }
   ],
   "source": [
    "predicted = model.predict(x_test)\n",
    "predicted = tf.squeeze(predicted)\n",
    "predicted = np.array([1 if x >= 0.5 else 0 for x in predicted])\n",
    "actual = np.array(y_test)\n",
    "conf_mat = confusion_matrix(actual, predicted)\n",
    "displ = ConfusionMatrixDisplay(confusion_matrix=conf_mat)\n",
    "displ.plot()"
   ]
  },
  {
   "cell_type": "markdown",
   "metadata": {},
   "source": [
    "### Hyperparameter tuning"
   ]
  },
  {
   "cell_type": "code",
   "execution_count": null,
   "metadata": {},
   "outputs": [],
   "source": []
  },
  {
   "cell_type": "markdown",
   "metadata": {},
   "source": [
    "### Saving the model (the saved model was later moved on the external SSD where the dataset is located, due to it being too big in size to upload on GitHub)"
   ]
  },
  {
   "cell_type": "code",
   "execution_count": 11,
   "metadata": {},
   "outputs": [
    {
     "name": "stderr",
     "output_type": "stream",
     "text": [
      "c:\\Users\\Misu\\anaconda3\\envs\\block_c\\lib\\site-packages\\keras\\src\\engine\\training.py:3103: UserWarning: You are saving your model as an HDF5 file via `model.save()`. This file format is considered legacy. We recommend using instead the native Keras format, e.g. `model.save('my_model.keras')`.\n",
      "  saving_api.save_model(\n"
     ]
    }
   ],
   "source": [
    "model.save('old_photos_model.h5')"
   ]
  }
 ],
 "metadata": {
  "kernelspec": {
   "display_name": "block_c",
   "language": "python",
   "name": "python3"
  },
  "language_info": {
   "codemirror_mode": {
    "name": "ipython",
    "version": 3
   },
   "file_extension": ".py",
   "mimetype": "text/x-python",
   "name": "python",
   "nbconvert_exporter": "python",
   "pygments_lexer": "ipython3",
   "version": "3.10.13"
  }
 },
 "nbformat": 4,
 "nbformat_minor": 2
}
